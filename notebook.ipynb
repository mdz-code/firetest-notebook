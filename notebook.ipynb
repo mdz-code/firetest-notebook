{
 "cells": [
  {
   "cell_type": "markdown",
   "id": "709f55c1-5503-4117-b9c2-060cc9292e96",
   "metadata": {},
   "source": [
    "## Crawler Q Concursos\n",
    "\n",
    "- [ ] Login e autenticação\n",
    "- [ ] Resgate de disciplinas e matérias\n",
    "- [ ] Cálculo de métricas de cada matérias\n",
    "- [ ] Aramazenamento local em dataframes\n",
    "- [ ] Raspagem de questões\n",
    "- [ ] Resolução de questões"
   ]
  },
  {
   "cell_type": "code",
   "execution_count": 9,
   "id": "95977ec3-b897-4741-846f-0d614f84c997",
   "metadata": {},
   "outputs": [],
   "source": [
    "from selenium import webdriver\n",
    "import uuid\n",
    "from time import sleep"
   ]
  },
  {
   "cell_type": "code",
   "execution_count": 2,
   "id": "39e09139-177f-435c-bf17-3f529f22bcf3",
   "metadata": {},
   "outputs": [],
   "source": [
    "# crawler config\n",
    "\n",
    "capabilities = {\n",
    "    \"browserName\": \"firefox\",\n",
    "    \"browserVersion\": \"90.0\",\n",
    "    \"selenoid:options\": {\n",
    "        \"enableVNC\": True,\n",
    "        \"enableVideo\": False\n",
    "    }\n",
    "}"
   ]
  },
  {
   "cell_type": "code",
   "execution_count": 74,
   "id": "6f97aea1-5b5a-42b5-8f26-f5ab6100a836",
   "metadata": {
    "tags": []
   },
   "outputs": [],
   "source": [
    "# Base Class\n",
    "\n",
    "class Craweler:\n",
    "    \n",
    "    def __init__(self):\n",
    "        self.__driver = webdriver.Remote(\n",
    "            command_executor=\"http://localhost:4444/wd/hub\",\n",
    "            desired_capabilities=capabilities\n",
    "        )\n",
    "        \n",
    "    def _find_element_by_xpath(self, xpath):\n",
    "        return self.__driver.find_element_by_xpath(xpath)\n",
    "        \n",
    "    def _send_keys_in_element(self, element, content_string):\n",
    "        return element.send_keys(content_string)\n",
    "    \n",
    "    def _request_url(self, url):\n",
    "        return self.__driver.get(url)\n",
    "    \n",
    "    def driver(self):\n",
    "        return self.__driver\n",
    "        \n",
    "        \n",
    "# Classe Herdada\n",
    "\n",
    "class Qconcursos(Craweler):\n",
    "    \n",
    "    def __init__(self, config_dict):\n",
    "        self.__driver = super().__init__()\n",
    "        self.__configs = config_dict\n",
    "        self.__infos = {\n",
    "            \"auth\": {\n",
    "                \"url\": \"https://www.qconcursos.com/conta/entrar\",\n",
    "                \"email_input_xpath\" : '//*[@id=\"login_email\"]',\n",
    "                \"password_input_xpath\": '//*[@id=\"login_password\"]',\n",
    "                \"button_input_xpath\": '//*[@id=\"login_form\"]/input[3]'\n",
    "            },\n",
    "            \"logout\": {\n",
    "                \"url\": \"https://www.qconcursos.com/usuario\",\n",
    "                \"first_button\": '//*[@id=\"user-dropdown\"]',\n",
    "                \"second_button\": '//*[@id=\"js-current-user\"]/div[2]/div/a[3]'\n",
    "            },\n",
    "            \"subjects\": {\n",
    "                \"url\": \"https://www.qconcursos.com/questoes-do-enem/disciplinas\",\n",
    "                \"body\": '/html/body/div[3]/main/div[2]/div'\n",
    "                \n",
    "            }\n",
    "        }\n",
    "        \n",
    "    def auth_user(self):\n",
    "        self._request_url(self.__infos[\"auth\"][\"url\"])\n",
    "        \n",
    "        input_email_element = self._find_element_by_xpath(self.__infos[\"auth\"][\"email_input_xpath\"])\n",
    "        input_password_element = self._find_element_by_xpath(self.__infos[\"auth\"][\"password_input_xpath\"])\n",
    "        input_button_element = self._find_element_by_xpath(self.__infos[\"auth\"][\"button_input_xpath\"])\n",
    "        \n",
    "        \n",
    "        self._send_keys_in_element(input_email_element, self.__configs[\"email\"])\n",
    "        self._send_keys_in_element(input_password_element, self.__configs[\"password\"])\n",
    "        \n",
    "        return input_button_element.click()\n",
    "    \n",
    "    \n",
    "    def logout_user(self):\n",
    "        self._request_url(self.__infos[\"logout\"][\"url\"])\n",
    "        \n",
    "        first_button = self._find_element_by_xpath(self.__infos[\"logout\"][\"first_button\"])\n",
    "        first_button.click()\n",
    "        second_button = self._find_element_by_xpath(self.__infos[\"logout\"][\"second_button\"])\n",
    "        return second_button.click()\n",
    "    \n",
    "    def get_subjects(self):\n",
    "        self._request_url(self.__infos[\"subjects\"][\"url\"])\n",
    "        \n",
    "        body_content = self._find_element_by_xpath(self.__infos[\"subjects\"][\"body\"])\n",
    "        subject_elements = body_content.find_elements_by_class_name('q-discipline-item')\n",
    "        \n",
    "        \n",
    "        response = []\n",
    "\n",
    "        for element_div in subject_elements:\n",
    "    \n",
    "            question_itens = element_div.find_elements_by_class_name('q-items')[0]\n",
    "            link_element = question_itens.find_element_by_tag_name('a')\n",
    "            \n",
    "            dict_element = {}\n",
    "            \n",
    "            dict_element['title'] = element_div.find_element_by_tag_name('h3').text\n",
    "            dict_element['url'] = link_element.get_attribute('href')\n",
    "            dict_element['number'] = link_element.text\n",
    "            \n",
    "            response.append(dict_element)\n",
    "            \n",
    "        print(response)\n",
    "        pass\n",
    "        \n",
    "        \n",
    "        \n",
    "        \n",
    "    def show_credentials(self):\n",
    "        print(self.__configs)\n",
    "        \n",
    "    "
   ]
  },
  {
   "cell_type": "code",
   "execution_count": 75,
   "id": "b9c44d66-24b2-4b4f-956a-1ffb7595fb4b",
   "metadata": {},
   "outputs": [],
   "source": [
    "crawler = Qconcursos({ \"email\": \"datajus.services@gmail.com\", \"password\": \"D@T@jus2021\" })"
   ]
  },
  {
   "cell_type": "code",
   "execution_count": 76,
   "id": "0aee347a-f5bd-47a5-87e3-f2bbdeb6697d",
   "metadata": {},
   "outputs": [
    {
     "name": "stdout",
     "output_type": "stream",
     "text": [
      "[{'title': 'Português', 'url': 'https://www.qconcursos.com/questoes-do-enem/disciplinas/letras-portugues/questoes', 'number': '972'}, {'title': 'Matemática', 'url': 'https://www.qconcursos.com/questoes-do-enem/disciplinas/matematica-matematica/questoes', 'number': '1.159'}, {'title': 'História', 'url': 'https://www.qconcursos.com/questoes-do-enem/disciplinas/historia-historia/questoes', 'number': '518'}, {'title': 'Geografia', 'url': 'https://www.qconcursos.com/questoes-do-enem/disciplinas/geografia-geografia/questoes', 'number': '456'}, {'title': 'Biologia', 'url': 'https://www.qconcursos.com/questoes-do-enem/disciplinas/biologia-biologia/questoes', 'number': '519'}, {'title': 'Química', 'url': 'https://www.qconcursos.com/questoes-do-enem/disciplinas/quimica-quimica/questoes', 'number': '386'}, {'title': 'Física', 'url': 'https://www.qconcursos.com/questoes-do-enem/disciplinas/fisica-fisica/questoes', 'number': '375'}, {'title': 'Inglês', 'url': 'https://www.qconcursos.com/questoes-do-enem/disciplinas/letras-ingles/questoes', 'number': '120'}, {'title': 'Sociologia', 'url': 'https://www.qconcursos.com/questoes-do-enem/disciplinas/ciencias-sociais-sociologia/questoes', 'number': '107'}, {'title': 'Filosofia', 'url': 'https://www.qconcursos.com/questoes-do-enem/disciplinas/filosofia-filosofia/questoes', 'number': '139'}, {'title': 'Literatura', 'url': 'https://www.qconcursos.com/questoes-do-enem/disciplinas/letras-literatura/questoes', 'number': '46'}, {'title': 'Espanhol', 'url': 'https://www.qconcursos.com/questoes-do-enem/disciplinas/letras-espanhol/questoes', 'number': '120'}, {'title': 'Educação Física', 'url': 'https://www.qconcursos.com/questoes-do-enem/disciplinas/educacao-fisica-educacao-fisica/questoes', 'number': '3'}, {'title': 'Conhecimentos Gerais', 'url': 'https://www.qconcursos.com/questoes-do-enem/disciplinas/historia-conhecimentos-gerais/questoes', 'number': '17'}, {'title': 'Educação Artística', 'url': 'https://www.qconcursos.com/questoes-do-enem/disciplinas/artes-educacao-artistica/questoes', 'number': '17'}]\n"
     ]
    }
   ],
   "source": [
    "crawler.auth_user()\n",
    "sleep(5)\n",
    "crawler.get_subjects()\n",
    "sleep(5)\n",
    "crawler.logout_user()"
   ]
  }
 ],
 "metadata": {
  "kernelspec": {
   "display_name": "Python 3 (ipykernel)",
   "language": "python",
   "name": "python3"
  },
  "language_info": {
   "codemirror_mode": {
    "name": "ipython",
    "version": 3
   },
   "file_extension": ".py",
   "mimetype": "text/x-python",
   "name": "python",
   "nbconvert_exporter": "python",
   "pygments_lexer": "ipython3",
   "version": "3.9.6"
  }
 },
 "nbformat": 4,
 "nbformat_minor": 5
}
